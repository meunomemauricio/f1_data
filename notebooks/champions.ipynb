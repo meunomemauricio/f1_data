{
 "cells": [
  {
   "cell_type": "markdown",
   "metadata": {
    "pycharm": {
     "name": "#%% md\n"
    }
   },
   "source": [
    "# WDC - World Driver Champions"
   ]
  },
  {
   "cell_type": "code",
   "execution_count": 70,
   "metadata": {
    "collapsed": false,
    "jupyter": {
     "outputs_hidden": false
    },
    "pycharm": {
     "name": "#%%\n"
    }
   },
   "outputs": [],
   "source": [
    "import sqlite3\n",
    "\n",
    "import pandas as pd\n",
    "\n",
    "con = sqlite3.connect(\"../data/f1data.sqlite\")"
   ]
  },
  {
   "cell_type": "code",
   "execution_count": 71,
   "metadata": {
    "collapsed": false,
    "jupyter": {
     "outputs_hidden": false
    },
    "pycharm": {
     "name": "#%%\n"
    }
   },
   "outputs": [
    {
     "data": {
      "text/html": [
       "<div>\n",
       "<style scoped>\n",
       "    .dataframe tbody tr th:only-of-type {\n",
       "        vertical-align: middle;\n",
       "    }\n",
       "\n",
       "    .dataframe tbody tr th {\n",
       "        vertical-align: top;\n",
       "    }\n",
       "\n",
       "    .dataframe thead th {\n",
       "        text-align: right;\n",
       "    }\n",
       "</style>\n",
       "<table border=\"1\" class=\"dataframe\">\n",
       "  <thead>\n",
       "    <tr style=\"text-align: right;\">\n",
       "      <th></th>\n",
       "      <th>race_id</th>\n",
       "      <th>driver_id</th>\n",
       "      <th>last_round</th>\n",
       "      <th>year</th>\n",
       "      <th>name</th>\n",
       "      <th>code</th>\n",
       "      <th>points</th>\n",
       "    </tr>\n",
       "  </thead>\n",
       "  <tbody>\n",
       "    <tr>\n",
       "      <th>62</th>\n",
       "      <td>879</td>\n",
       "      <td>20</td>\n",
       "      <td>20</td>\n",
       "      <td>2012</td>\n",
       "      <td>Sebastian Vettel</td>\n",
       "      <td>VET</td>\n",
       "      <td>281.0</td>\n",
       "    </tr>\n",
       "    <tr>\n",
       "      <th>63</th>\n",
       "      <td>899</td>\n",
       "      <td>20</td>\n",
       "      <td>19</td>\n",
       "      <td>2013</td>\n",
       "      <td>Sebastian Vettel</td>\n",
       "      <td>VET</td>\n",
       "      <td>397.0</td>\n",
       "    </tr>\n",
       "    <tr>\n",
       "      <th>64</th>\n",
       "      <td>918</td>\n",
       "      <td>1</td>\n",
       "      <td>19</td>\n",
       "      <td>2014</td>\n",
       "      <td>Lewis Hamilton</td>\n",
       "      <td>HAM</td>\n",
       "      <td>384.0</td>\n",
       "    </tr>\n",
       "    <tr>\n",
       "      <th>65</th>\n",
       "      <td>945</td>\n",
       "      <td>1</td>\n",
       "      <td>19</td>\n",
       "      <td>2015</td>\n",
       "      <td>Lewis Hamilton</td>\n",
       "      <td>HAM</td>\n",
       "      <td>381.0</td>\n",
       "    </tr>\n",
       "    <tr>\n",
       "      <th>66</th>\n",
       "      <td>968</td>\n",
       "      <td>3</td>\n",
       "      <td>21</td>\n",
       "      <td>2016</td>\n",
       "      <td>Nico Rosberg</td>\n",
       "      <td>ROS</td>\n",
       "      <td>385.0</td>\n",
       "    </tr>\n",
       "    <tr>\n",
       "      <th>67</th>\n",
       "      <td>988</td>\n",
       "      <td>1</td>\n",
       "      <td>20</td>\n",
       "      <td>2017</td>\n",
       "      <td>Lewis Hamilton</td>\n",
       "      <td>HAM</td>\n",
       "      <td>363.0</td>\n",
       "    </tr>\n",
       "    <tr>\n",
       "      <th>68</th>\n",
       "      <td>1009</td>\n",
       "      <td>1</td>\n",
       "      <td>21</td>\n",
       "      <td>2018</td>\n",
       "      <td>Lewis Hamilton</td>\n",
       "      <td>HAM</td>\n",
       "      <td>408.0</td>\n",
       "    </tr>\n",
       "    <tr>\n",
       "      <th>69</th>\n",
       "      <td>1030</td>\n",
       "      <td>1</td>\n",
       "      <td>21</td>\n",
       "      <td>2019</td>\n",
       "      <td>Lewis Hamilton</td>\n",
       "      <td>HAM</td>\n",
       "      <td>413.0</td>\n",
       "    </tr>\n",
       "    <tr>\n",
       "      <th>70</th>\n",
       "      <td>1047</td>\n",
       "      <td>1</td>\n",
       "      <td>17</td>\n",
       "      <td>2020</td>\n",
       "      <td>Lewis Hamilton</td>\n",
       "      <td>HAM</td>\n",
       "      <td>347.0</td>\n",
       "    </tr>\n",
       "    <tr>\n",
       "      <th>71</th>\n",
       "      <td>1073</td>\n",
       "      <td>830</td>\n",
       "      <td>22</td>\n",
       "      <td>2021</td>\n",
       "      <td>Max Verstappen</td>\n",
       "      <td>VER</td>\n",
       "      <td>395.5</td>\n",
       "    </tr>\n",
       "  </tbody>\n",
       "</table>\n",
       "</div>"
      ],
      "text/plain": [
       "    race_id  driver_id  last_round  year              name code  points\n",
       "62      879         20          20  2012  Sebastian Vettel  VET   281.0\n",
       "63      899         20          19  2013  Sebastian Vettel  VET   397.0\n",
       "64      918          1          19  2014    Lewis Hamilton  HAM   384.0\n",
       "65      945          1          19  2015    Lewis Hamilton  HAM   381.0\n",
       "66      968          3          21  2016      Nico Rosberg  ROS   385.0\n",
       "67      988          1          20  2017    Lewis Hamilton  HAM   363.0\n",
       "68     1009          1          21  2018    Lewis Hamilton  HAM   408.0\n",
       "69     1030          1          21  2019    Lewis Hamilton  HAM   413.0\n",
       "70     1047          1          17  2020    Lewis Hamilton  HAM   347.0\n",
       "71     1073        830          22  2021    Max Verstappen  VER   395.5"
      ]
     },
     "execution_count": 71,
     "metadata": {},
     "output_type": "execute_result"
    }
   ],
   "source": [
    "query = \"\"\"\n",
    "SELECT\n",
    "  r.raceId AS race_id,\n",
    "  d.driverId AS driver_id,\n",
    "  MAX(r.round) AS last_round,\n",
    "  r.year,\n",
    "  d.forename || ' ' || d.surname AS name,\n",
    "  d.code,\n",
    "  MAX(ds.points) AS points\n",
    "FROM races AS r\n",
    "JOIN driver_standings ds on r.raceId = ds.raceId\n",
    "JOIN drivers d on ds.driverId = d.driverId\n",
    "WHERE r.year <> 2022\n",
    "GROUP BY r.year\n",
    "\"\"\"\n",
    "\n",
    "df = pd.read_sql(query, con)\n",
    "df.tail(10)"
   ]
  },
  {
   "cell_type": "code",
   "execution_count": 72,
   "metadata": {
    "collapsed": false,
    "jupyter": {
     "outputs_hidden": false
    },
    "pycharm": {
     "name": "#%%\n"
    }
   },
   "outputs": [
    {
     "data": {
      "text/plain": [
       "name\n",
       "Michael Schumacher    7\n",
       "Lewis Hamilton        7\n",
       "Juan Fangio           5\n",
       "Alain Prost           4\n",
       "Sebastian Vettel      4\n",
       "Niki Lauda            3\n",
       "Ayrton Senna          3\n",
       "Jack Brabham          3\n",
       "Jackie Stewart        3\n",
       "Nelson Piquet         3\n",
       "Jim Clark             2\n",
       "Mika Häkkinen         2\n",
       "Emerson Fittipaldi    2\n",
       "Alberto Ascari        2\n",
       "Graham Hill           2\n",
       "Fernando Alonso       2\n",
       "Max Verstappen        1\n",
       "Nigel Mansell         1\n",
       "Nico Rosberg          1\n",
       "Nino Farina           1\n",
       "Mike Hawthorn         1\n",
       "Phil Hill             1\n",
       "Denny Hulme           1\n",
       "Keke Rosberg          1\n",
       "Mario Andretti        1\n",
       "Kimi Räikkönen        1\n",
       "Damon Hill            1\n",
       "Alan Jones            1\n",
       "Jody Scheckter        1\n",
       "Jochen Rindt          1\n",
       "Jenson Button         1\n",
       "James Hunt            1\n",
       "Jacques Villeneuve    1\n",
       "John Surtees          1\n",
       "Name: driver_id, dtype: int64"
      ]
     },
     "execution_count": 72,
     "metadata": {},
     "output_type": "execute_result"
    }
   ],
   "source": [
    "df.groupby(\"name\")[\"driver_id\"].count().sort_values(ascending=False)"
   ]
  },
  {
   "cell_type": "markdown",
   "metadata": {
    "pycharm": {
     "name": "#%% md\n"
    }
   },
   "source": [
    "# WCC - World Constructor Champions"
   ]
  },
  {
   "cell_type": "code",
   "execution_count": 73,
   "metadata": {
    "collapsed": false,
    "jupyter": {
     "outputs_hidden": false
    },
    "pycharm": {
     "name": "#%%\n"
    }
   },
   "outputs": [
    {
     "data": {
      "text/html": [
       "<div>\n",
       "<style scoped>\n",
       "    .dataframe tbody tr th:only-of-type {\n",
       "        vertical-align: middle;\n",
       "    }\n",
       "\n",
       "    .dataframe tbody tr th {\n",
       "        vertical-align: top;\n",
       "    }\n",
       "\n",
       "    .dataframe thead th {\n",
       "        text-align: right;\n",
       "    }\n",
       "</style>\n",
       "<table border=\"1\" class=\"dataframe\">\n",
       "  <thead>\n",
       "    <tr style=\"text-align: right;\">\n",
       "      <th></th>\n",
       "      <th>race_id</th>\n",
       "      <th>constructor_id</th>\n",
       "      <th>last_round</th>\n",
       "      <th>year</th>\n",
       "      <th>name</th>\n",
       "      <th>points</th>\n",
       "    </tr>\n",
       "  </thead>\n",
       "  <tbody>\n",
       "    <tr>\n",
       "      <th>54</th>\n",
       "      <td>879</td>\n",
       "      <td>9</td>\n",
       "      <td>20</td>\n",
       "      <td>2012</td>\n",
       "      <td>Red Bull</td>\n",
       "      <td>460.0</td>\n",
       "    </tr>\n",
       "    <tr>\n",
       "      <th>55</th>\n",
       "      <td>899</td>\n",
       "      <td>9</td>\n",
       "      <td>19</td>\n",
       "      <td>2013</td>\n",
       "      <td>Red Bull</td>\n",
       "      <td>596.0</td>\n",
       "    </tr>\n",
       "    <tr>\n",
       "      <th>56</th>\n",
       "      <td>918</td>\n",
       "      <td>131</td>\n",
       "      <td>19</td>\n",
       "      <td>2014</td>\n",
       "      <td>Mercedes</td>\n",
       "      <td>701.0</td>\n",
       "    </tr>\n",
       "    <tr>\n",
       "      <th>57</th>\n",
       "      <td>945</td>\n",
       "      <td>131</td>\n",
       "      <td>19</td>\n",
       "      <td>2015</td>\n",
       "      <td>Mercedes</td>\n",
       "      <td>703.0</td>\n",
       "    </tr>\n",
       "    <tr>\n",
       "      <th>58</th>\n",
       "      <td>968</td>\n",
       "      <td>131</td>\n",
       "      <td>21</td>\n",
       "      <td>2016</td>\n",
       "      <td>Mercedes</td>\n",
       "      <td>765.0</td>\n",
       "    </tr>\n",
       "    <tr>\n",
       "      <th>59</th>\n",
       "      <td>988</td>\n",
       "      <td>131</td>\n",
       "      <td>20</td>\n",
       "      <td>2017</td>\n",
       "      <td>Mercedes</td>\n",
       "      <td>668.0</td>\n",
       "    </tr>\n",
       "    <tr>\n",
       "      <th>60</th>\n",
       "      <td>1009</td>\n",
       "      <td>131</td>\n",
       "      <td>21</td>\n",
       "      <td>2018</td>\n",
       "      <td>Mercedes</td>\n",
       "      <td>655.0</td>\n",
       "    </tr>\n",
       "    <tr>\n",
       "      <th>61</th>\n",
       "      <td>1030</td>\n",
       "      <td>131</td>\n",
       "      <td>21</td>\n",
       "      <td>2019</td>\n",
       "      <td>Mercedes</td>\n",
       "      <td>739.0</td>\n",
       "    </tr>\n",
       "    <tr>\n",
       "      <th>62</th>\n",
       "      <td>1047</td>\n",
       "      <td>131</td>\n",
       "      <td>17</td>\n",
       "      <td>2020</td>\n",
       "      <td>Mercedes</td>\n",
       "      <td>573.0</td>\n",
       "    </tr>\n",
       "    <tr>\n",
       "      <th>63</th>\n",
       "      <td>1073</td>\n",
       "      <td>131</td>\n",
       "      <td>22</td>\n",
       "      <td>2021</td>\n",
       "      <td>Mercedes</td>\n",
       "      <td>613.5</td>\n",
       "    </tr>\n",
       "  </tbody>\n",
       "</table>\n",
       "</div>"
      ],
      "text/plain": [
       "    race_id  constructor_id  last_round  year      name  points\n",
       "54      879               9          20  2012  Red Bull   460.0\n",
       "55      899               9          19  2013  Red Bull   596.0\n",
       "56      918             131          19  2014  Mercedes   701.0\n",
       "57      945             131          19  2015  Mercedes   703.0\n",
       "58      968             131          21  2016  Mercedes   765.0\n",
       "59      988             131          20  2017  Mercedes   668.0\n",
       "60     1009             131          21  2018  Mercedes   655.0\n",
       "61     1030             131          21  2019  Mercedes   739.0\n",
       "62     1047             131          17  2020  Mercedes   573.0\n",
       "63     1073             131          22  2021  Mercedes   613.5"
      ]
     },
     "execution_count": 73,
     "metadata": {},
     "output_type": "execute_result"
    }
   ],
   "source": [
    "query = \"\"\"\n",
    "SELECT\n",
    "  r.raceId as race_id,\n",
    "  c.constructorId as constructor_id,\n",
    "  MAX(r.round) AS last_round,\n",
    "  r.year,\n",
    "  c.name,\n",
    "  MAX(cs.points) AS points\n",
    "FROM races AS r\n",
    "JOIN constructor_standings cs on r.raceId = cs.raceId\n",
    "JOIN constructors c on cs.constructorId = c.constructorId\n",
    "WHERE r.year <> 2022\n",
    "GROUP BY r.year\n",
    "\"\"\"\n",
    "\n",
    "df = pd.read_sql(query, con)\n",
    "df.tail(10)"
   ]
  },
  {
   "cell_type": "code",
   "execution_count": 74,
   "metadata": {
    "collapsed": false,
    "jupyter": {
     "outputs_hidden": false
    },
    "pycharm": {
     "name": "#%%\n"
    }
   },
   "outputs": [
    {
     "data": {
      "text/plain": [
       "name\n",
       "Ferrari          15\n",
       "Williams          9\n",
       "McLaren           9\n",
       "Mercedes          8\n",
       "Team Lotus        4\n",
       "Red Bull          4\n",
       "Renault           2\n",
       "Brabham-Repco     2\n",
       "Cooper-Climax     2\n",
       "Lotus-Climax      2\n",
       "Vanwall           1\n",
       "Tyrrell           1\n",
       "BRM               1\n",
       "Benetton          1\n",
       "Lotus-Ford        1\n",
       "Brawn             1\n",
       "Matra-Ford        1\n",
       "Name: constructor_id, dtype: int64"
      ]
     },
     "execution_count": 74,
     "metadata": {},
     "output_type": "execute_result"
    }
   ],
   "source": [
    "df.groupby(\"name\")[\"constructor_id\"].count().sort_values(ascending=False)"
   ]
  }
 ],
 "metadata": {
  "kernelspec": {
   "display_name": "Python 3 (ipykernel)",
   "language": "python",
   "name": "python3"
  },
  "language_info": {
   "codemirror_mode": {
    "name": "ipython",
    "version": 3
   },
   "file_extension": ".py",
   "mimetype": "text/x-python",
   "name": "python",
   "nbconvert_exporter": "python",
   "pygments_lexer": "ipython3",
   "version": "3.8.10"
  },
  "widgets": {
   "application/vnd.jupyter.widget-state+json": {
    "state": {},
    "version_major": 2,
    "version_minor": 0
   }
  }
 },
 "nbformat": 4,
 "nbformat_minor": 4
}
