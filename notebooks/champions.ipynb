{
 "cells": [
  {
   "cell_type": "markdown",
   "metadata": {
    "collapsed": true,
    "pycharm": {
     "name": "#%% md\n"
    }
   },
   "source": [
    "# WDC - World Driver Champions"
   ]
  },
  {
   "cell_type": "code",
   "source": [
    "import pandas as pd\n",
    "import sqlite3\n",
    "\n",
    "\n",
    "con = sqlite3.connect(\"../data/f1data.sqlite\")"
   ],
   "metadata": {
    "collapsed": false,
    "pycharm": {
     "name": "#%%\n"
    }
   },
   "execution_count": 70,
   "outputs": []
  },
  {
   "cell_type": "code",
   "execution_count": 71,
   "outputs": [
    {
     "data": {
      "text/plain": "    race_id  driver_id  last_round  year              name code  points\n62      879         20          20  2012  Sebastian Vettel  VET   281.0\n63      899         20          19  2013  Sebastian Vettel  VET   397.0\n64      918          1          19  2014    Lewis Hamilton  HAM   384.0\n65      945          1          19  2015    Lewis Hamilton  HAM   381.0\n66      968          3          21  2016      Nico Rosberg  ROS   385.0\n67      988          1          20  2017    Lewis Hamilton  HAM   363.0\n68     1009          1          21  2018    Lewis Hamilton  HAM   408.0\n69     1030          1          21  2019    Lewis Hamilton  HAM   413.0\n70     1047          1          17  2020    Lewis Hamilton  HAM   347.0\n71     1073        830          22  2021    Max Verstappen  VER   395.5",
      "text/html": "<div>\n<style scoped>\n    .dataframe tbody tr th:only-of-type {\n        vertical-align: middle;\n    }\n\n    .dataframe tbody tr th {\n        vertical-align: top;\n    }\n\n    .dataframe thead th {\n        text-align: right;\n    }\n</style>\n<table border=\"1\" class=\"dataframe\">\n  <thead>\n    <tr style=\"text-align: right;\">\n      <th></th>\n      <th>race_id</th>\n      <th>driver_id</th>\n      <th>last_round</th>\n      <th>year</th>\n      <th>name</th>\n      <th>code</th>\n      <th>points</th>\n    </tr>\n  </thead>\n  <tbody>\n    <tr>\n      <th>62</th>\n      <td>879</td>\n      <td>20</td>\n      <td>20</td>\n      <td>2012</td>\n      <td>Sebastian Vettel</td>\n      <td>VET</td>\n      <td>281.0</td>\n    </tr>\n    <tr>\n      <th>63</th>\n      <td>899</td>\n      <td>20</td>\n      <td>19</td>\n      <td>2013</td>\n      <td>Sebastian Vettel</td>\n      <td>VET</td>\n      <td>397.0</td>\n    </tr>\n    <tr>\n      <th>64</th>\n      <td>918</td>\n      <td>1</td>\n      <td>19</td>\n      <td>2014</td>\n      <td>Lewis Hamilton</td>\n      <td>HAM</td>\n      <td>384.0</td>\n    </tr>\n    <tr>\n      <th>65</th>\n      <td>945</td>\n      <td>1</td>\n      <td>19</td>\n      <td>2015</td>\n      <td>Lewis Hamilton</td>\n      <td>HAM</td>\n      <td>381.0</td>\n    </tr>\n    <tr>\n      <th>66</th>\n      <td>968</td>\n      <td>3</td>\n      <td>21</td>\n      <td>2016</td>\n      <td>Nico Rosberg</td>\n      <td>ROS</td>\n      <td>385.0</td>\n    </tr>\n    <tr>\n      <th>67</th>\n      <td>988</td>\n      <td>1</td>\n      <td>20</td>\n      <td>2017</td>\n      <td>Lewis Hamilton</td>\n      <td>HAM</td>\n      <td>363.0</td>\n    </tr>\n    <tr>\n      <th>68</th>\n      <td>1009</td>\n      <td>1</td>\n      <td>21</td>\n      <td>2018</td>\n      <td>Lewis Hamilton</td>\n      <td>HAM</td>\n      <td>408.0</td>\n    </tr>\n    <tr>\n      <th>69</th>\n      <td>1030</td>\n      <td>1</td>\n      <td>21</td>\n      <td>2019</td>\n      <td>Lewis Hamilton</td>\n      <td>HAM</td>\n      <td>413.0</td>\n    </tr>\n    <tr>\n      <th>70</th>\n      <td>1047</td>\n      <td>1</td>\n      <td>17</td>\n      <td>2020</td>\n      <td>Lewis Hamilton</td>\n      <td>HAM</td>\n      <td>347.0</td>\n    </tr>\n    <tr>\n      <th>71</th>\n      <td>1073</td>\n      <td>830</td>\n      <td>22</td>\n      <td>2021</td>\n      <td>Max Verstappen</td>\n      <td>VER</td>\n      <td>395.5</td>\n    </tr>\n  </tbody>\n</table>\n</div>"
     },
     "execution_count": 71,
     "metadata": {},
     "output_type": "execute_result"
    }
   ],
   "source": [
    "query = \"\"\"\n",
    "SELECT\n",
    "  r.raceId AS race_id,\n",
    "  d.driverId AS driver_id,\n",
    "  MAX(r.round) AS last_round,\n",
    "  r.year,\n",
    "  d.forename || ' ' || d.surname AS name,\n",
    "  d.code,\n",
    "  MAX(ds.points) AS points\n",
    "FROM races AS r\n",
    "JOIN driver_standings ds on r.raceId = ds.raceId\n",
    "JOIN drivers d on ds.driverId = d.driverId\n",
    "WHERE r.year <> 2022\n",
    "GROUP BY r.year\n",
    "\"\"\"\n",
    "\n",
    "df = pd.read_sql(query, con)\n",
    "df.tail(10)"
   ],
   "metadata": {
    "collapsed": false,
    "pycharm": {
     "name": "#%%\n"
    }
   }
  },
  {
   "cell_type": "code",
   "execution_count": 72,
   "outputs": [
    {
     "data": {
      "text/plain": "name\nMichael Schumacher    7\nLewis Hamilton        7\nJuan Fangio           5\nAlain Prost           4\nSebastian Vettel      4\nNiki Lauda            3\nAyrton Senna          3\nJack Brabham          3\nJackie Stewart        3\nNelson Piquet         3\nJim Clark             2\nMika Häkkinen         2\nEmerson Fittipaldi    2\nAlberto Ascari        2\nGraham Hill           2\nFernando Alonso       2\nMax Verstappen        1\nNigel Mansell         1\nNico Rosberg          1\nNino Farina           1\nMike Hawthorn         1\nPhil Hill             1\nDenny Hulme           1\nKeke Rosberg          1\nMario Andretti        1\nKimi Räikkönen        1\nDamon Hill            1\nAlan Jones            1\nJody Scheckter        1\nJochen Rindt          1\nJenson Button         1\nJames Hunt            1\nJacques Villeneuve    1\nJohn Surtees          1\nName: driver_id, dtype: int64"
     },
     "execution_count": 72,
     "metadata": {},
     "output_type": "execute_result"
    }
   ],
   "source": [
    "df.groupby(\"name\")[\"driver_id\"].count().sort_values(ascending=False)\n"
   ],
   "metadata": {
    "collapsed": false,
    "pycharm": {
     "name": "#%%\n"
    }
   }
  },
  {
   "cell_type": "markdown",
   "source": [
    "# WCC - World Constructor Champions"
   ],
   "metadata": {
    "collapsed": false,
    "pycharm": {
     "name": "#%% md\n"
    }
   }
  },
  {
   "cell_type": "code",
   "execution_count": 73,
   "outputs": [
    {
     "data": {
      "text/plain": "    race_id  constructor_id  last_round  year      name  points\n54      879               9          20  2012  Red Bull   460.0\n55      899               9          19  2013  Red Bull   596.0\n56      918             131          19  2014  Mercedes   701.0\n57      945             131          19  2015  Mercedes   703.0\n58      968             131          21  2016  Mercedes   765.0\n59      988             131          20  2017  Mercedes   668.0\n60     1009             131          21  2018  Mercedes   655.0\n61     1030             131          21  2019  Mercedes   739.0\n62     1047             131          17  2020  Mercedes   573.0\n63     1073             131          22  2021  Mercedes   613.5",
      "text/html": "<div>\n<style scoped>\n    .dataframe tbody tr th:only-of-type {\n        vertical-align: middle;\n    }\n\n    .dataframe tbody tr th {\n        vertical-align: top;\n    }\n\n    .dataframe thead th {\n        text-align: right;\n    }\n</style>\n<table border=\"1\" class=\"dataframe\">\n  <thead>\n    <tr style=\"text-align: right;\">\n      <th></th>\n      <th>race_id</th>\n      <th>constructor_id</th>\n      <th>last_round</th>\n      <th>year</th>\n      <th>name</th>\n      <th>points</th>\n    </tr>\n  </thead>\n  <tbody>\n    <tr>\n      <th>54</th>\n      <td>879</td>\n      <td>9</td>\n      <td>20</td>\n      <td>2012</td>\n      <td>Red Bull</td>\n      <td>460.0</td>\n    </tr>\n    <tr>\n      <th>55</th>\n      <td>899</td>\n      <td>9</td>\n      <td>19</td>\n      <td>2013</td>\n      <td>Red Bull</td>\n      <td>596.0</td>\n    </tr>\n    <tr>\n      <th>56</th>\n      <td>918</td>\n      <td>131</td>\n      <td>19</td>\n      <td>2014</td>\n      <td>Mercedes</td>\n      <td>701.0</td>\n    </tr>\n    <tr>\n      <th>57</th>\n      <td>945</td>\n      <td>131</td>\n      <td>19</td>\n      <td>2015</td>\n      <td>Mercedes</td>\n      <td>703.0</td>\n    </tr>\n    <tr>\n      <th>58</th>\n      <td>968</td>\n      <td>131</td>\n      <td>21</td>\n      <td>2016</td>\n      <td>Mercedes</td>\n      <td>765.0</td>\n    </tr>\n    <tr>\n      <th>59</th>\n      <td>988</td>\n      <td>131</td>\n      <td>20</td>\n      <td>2017</td>\n      <td>Mercedes</td>\n      <td>668.0</td>\n    </tr>\n    <tr>\n      <th>60</th>\n      <td>1009</td>\n      <td>131</td>\n      <td>21</td>\n      <td>2018</td>\n      <td>Mercedes</td>\n      <td>655.0</td>\n    </tr>\n    <tr>\n      <th>61</th>\n      <td>1030</td>\n      <td>131</td>\n      <td>21</td>\n      <td>2019</td>\n      <td>Mercedes</td>\n      <td>739.0</td>\n    </tr>\n    <tr>\n      <th>62</th>\n      <td>1047</td>\n      <td>131</td>\n      <td>17</td>\n      <td>2020</td>\n      <td>Mercedes</td>\n      <td>573.0</td>\n    </tr>\n    <tr>\n      <th>63</th>\n      <td>1073</td>\n      <td>131</td>\n      <td>22</td>\n      <td>2021</td>\n      <td>Mercedes</td>\n      <td>613.5</td>\n    </tr>\n  </tbody>\n</table>\n</div>"
     },
     "execution_count": 73,
     "metadata": {},
     "output_type": "execute_result"
    }
   ],
   "source": [
    "query = \"\"\"\n",
    "SELECT\n",
    "  r.raceId as race_id,\n",
    "  c.constructorId as constructor_id,\n",
    "  MAX(r.round) AS last_round,\n",
    "  r.year,\n",
    "  c.name,\n",
    "  MAX(cs.points) AS points\n",
    "FROM races AS r\n",
    "JOIN constructor_standings cs on r.raceId = cs.raceId\n",
    "JOIN constructors c on cs.constructorId = c.constructorId\n",
    "WHERE r.year <> 2022\n",
    "GROUP BY r.year\n",
    "\"\"\"\n",
    "\n",
    "df = pd.read_sql(query, con)\n",
    "df.tail(10)"
   ],
   "metadata": {
    "collapsed": false,
    "pycharm": {
     "name": "#%%\n"
    }
   }
  },
  {
   "cell_type": "code",
   "execution_count": 74,
   "outputs": [
    {
     "data": {
      "text/plain": "name\nFerrari          15\nWilliams          9\nMcLaren           9\nMercedes          8\nTeam Lotus        4\nRed Bull          4\nRenault           2\nBrabham-Repco     2\nCooper-Climax     2\nLotus-Climax      2\nVanwall           1\nTyrrell           1\nBRM               1\nBenetton          1\nLotus-Ford        1\nBrawn             1\nMatra-Ford        1\nName: constructor_id, dtype: int64"
     },
     "execution_count": 74,
     "metadata": {},
     "output_type": "execute_result"
    }
   ],
   "source": [
    "df.groupby(\"name\")[\"constructor_id\"].count().sort_values(ascending=False)"
   ],
   "metadata": {
    "collapsed": false,
    "pycharm": {
     "name": "#%%\n"
    }
   }
  }
 ],
 "metadata": {
  "kernelspec": {
   "display_name": "Python 3",
   "language": "python",
   "name": "python3"
  },
  "language_info": {
   "codemirror_mode": {
    "name": "ipython",
    "version": 2
   },
   "file_extension": ".py",
   "mimetype": "text/x-python",
   "name": "python",
   "nbconvert_exporter": "python",
   "pygments_lexer": "ipython2",
   "version": "2.7.6"
  }
 },
 "nbformat": 4,
 "nbformat_minor": 0
}
