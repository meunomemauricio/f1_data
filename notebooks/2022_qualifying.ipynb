{
 "cells": [
  {
   "cell_type": "markdown",
   "source": [
    "# 2022 Qualifying Stats"
   ],
   "metadata": {
    "collapsed": false
   }
  },
  {
   "cell_type": "code",
   "execution_count": 86,
   "outputs": [],
   "source": [
    "import pandas as pd\n",
    "import sqlite3\n",
    "\n",
    "con = sqlite3.connect(\"../data/f1data.sqlite\")\n",
    "\n",
    "DRIVER_PAIRS = {\n",
    "  \"HAM\": \"RUS\",\n",
    "  \"VER\": \"PER\",\n",
    "  \"SAI\": \"LEC\",\n",
    "  \"NOR\": \"RIC\",\n",
    "  \"ALO\": \"OCO\",\n",
    "  \"GAS\": \"TSU\",\n",
    "  \"VET\": \"STR\",\n",
    "  \"LAT\": \"ALB\",\n",
    "  \"BOT\": \"ZHO\",\n",
    "  \"MSC\": \"MAG\",\n",
    "}"
   ],
   "metadata": {
    "collapsed": false,
    "pycharm": {
     "name": "#%%\n"
    }
   }
  },
  {
   "cell_type": "code",
   "execution_count": 87,
   "outputs": [
    {
     "data": {
      "text/plain": "date\n2022-03-20   0 days 00:01:30.558000\n2022-03-20   0 days 00:01:30.681000\n2022-03-20   0 days 00:01:30.687000\n2022-03-20   0 days 00:01:30.921000\n2022-03-20   0 days 00:01:31.238000\nName: final_lap, dtype: timedelta64[ns]"
     },
     "execution_count": 87,
     "metadata": {},
     "output_type": "execute_result"
    }
   ],
   "source": [
    "query = \"\"\"\n",
    "SELECT\n",
    "  r.date,\n",
    "  r.round,\n",
    "  d.code,\n",
    "  d.forename || ' ' || d.surname AS name,\n",
    "  q.q1 AS q1,\n",
    "  '00:0' || CASE\n",
    "    WHEN q.q3 IS NULL AND q.q2 IS NULL THEN q1\n",
    "    WHEN q.q3 IS NULL THEN q2\n",
    "    ELSE q3\n",
    "  END AS final_lap\n",
    "FROM qualifying AS q\n",
    "JOIN races r on q.raceId = r.raceId\n",
    "JOIN drivers d on q.driverId = d.driverId\n",
    "WHERE r.year = 2022\n",
    "\"\"\"\n",
    "\n",
    "df = pd.read_sql(\n",
    "  query,\n",
    "  con,\n",
    "  index_col=\"date\",\n",
    "  parse_dates=\"date\"\n",
    ")\n",
    "\n",
    "\n",
    "df[\"final_lap\"] = pd.to_timedelta(df[\"final_lap\"], errors=\"coerce\")"
   ],
   "metadata": {
    "collapsed": false,
    "pycharm": {
     "name": "#%%\n"
    }
   }
  },
  {
   "cell_type": "markdown",
   "source": [
    "## Average Qualifying Advantage over Teammate"
   ],
   "metadata": {
    "collapsed": false,
    "pycharm": {
     "name": "#%% md\n"
    }
   }
  },
  {
   "cell_type": "code",
   "execution_count": 88,
   "outputs": [
    {
     "data": {
      "text/plain": "              code                                               diff\nround                                                                \n1     0  HAM x RUS  date\n2022-03-20   -1 days +23:59:59.022000\nNam...\n      1  VER x PER  date\n2022-03-20   -1 days +23:59:59.760000\nNam...\n      2  SAI x LEC  date\n2022-03-20   0 days 00:00:00.129000\nName:...\n      3  NOR x RIC  date\n2022-03-20   -1 days +23:59:59.063000\nNam...\n      4  ALO x OCO  date\n2022-03-20   0 days 00:00:00.413000\nName:...\n      5  GAS x TSU  date\n2022-03-20   -1 days +23:59:59.588000\nNam...\n      6  VET x STR  date\n2022-03-20   NaT\nName: final_lap, dtype: ...\n      7  LAT x ALB  date\n2022-03-20   0 days 00:00:00.970000\nName:...\n      8  BOT x ZHO  date\n2022-03-20   -1 days +23:59:58.017000\nNam...\n      9  MSC x MAG  date\n2022-03-20   0 days 00:00:00.190000\nName:...\n2     0  HAM x RUS  date\n2022-03-27   0 days 00:00:01.239000\nName:...\n      1  VER x PER  date\n2022-03-27   0 days 00:00:00.261000\nName:...\n      2  SAI x LEC  date\n2022-03-27   0 days 00:00:00.177000\nName:...\n      3  NOR x RIC  date\n2022-03-27   -1 days +23:59:59.878000\nNam...\n      4  ALO x OCO  date\n2022-03-27   0 days 00:00:00.079000\nName:...\n      5  GAS x TSU  date\n2022-03-27   NaT\nName: final_lap, dtype: ...\n      6  VET x STR  date\n2022-03-27   NaT\nName: final_lap, dtype: ...\n      7  LAT x ALB  date\n2022-03-27   0 days 00:00:01.325000\nName:...\n      8  BOT x ZHO  date\n2022-03-27   -1 days +23:59:59.364000\nNam...\n      9  MSC x MAG  date\n2022-03-27   0 days 00:00:00.332000\nName:...\n3     0  HAM x RUS  date\n2022-04-10   -1 days +23:59:59.892000\nNam...\n      1  VER x PER  date\n2022-04-10   -1 days +23:59:59.914000\nNam...\n      2  SAI x LEC  date\n2022-04-10   0 days 00:00:01.540000\nName:...\n      3  NOR x RIC  date\n2022-04-10   -1 days +23:59:59.671000\nNam...\n      4  ALO x OCO  date\n2022-04-10   NaT\nName: final_lap, dtype: ...\n      5  GAS x TSU  date\n2022-04-10   NaT\nName: final_lap, dtype: ...\n      6  VET x STR  date\n2022-04-10   NaT\nName: final_lap, dtype: ...\n      7  LAT x ALB  date\n2022-04-10   NaT\nName: final_lap, dtype: ...\n      8  BOT x ZHO  date\n2022-04-10   NaT\nName: final_lap, dtype: ...\n      9  MSC x MAG  date\n2022-04-10   NaT\nName: final_lap, dtype: ...\n4     0  HAM x RUS  date\n2022-04-24   NaT\nName: final_lap, dtype: ...\n      1  VER x PER  date\n2022-04-24   -1 days +23:59:58.191000\nNam...\n      2  SAI x LEC  date\n2022-04-24   NaT\nName: final_lap, dtype: ...\n      3  NOR x RIC  date\n2022-04-24   -1 days +23:59:59.389000\nNam...\n      4  ALO x OCO  date\n2022-04-24   NaT\nName: final_lap, dtype: ...\n      5  GAS x TSU  date\n2022-04-24   NaT\nName: final_lap, dtype: ...\n      6  VET x STR  date\n2022-04-24   NaT\nName: final_lap, dtype: ...\n      7  LAT x ALB  date\n2022-04-24   NaT\nName: final_lap, dtype: ...\n      8  BOT x ZHO  date\n2022-04-24   NaT\nName: final_lap, dtype: ...\n      9  MSC x MAG  date\n2022-04-24   NaT\nName: final_lap, dtype: ...\n5     0  HAM x RUS  date\n2022-05-08   NaT\nName: final_lap, dtype: ...\n      1  VER x PER  date\n2022-05-08   -1 days +23:59:59.955000\nNam...\n      2  SAI x LEC  date\n2022-05-08   0 days 00:00:00.190000\nName:...\n      3  NOR x RIC  date\n2022-05-08   NaT\nName: final_lap, dtype: ...\n      4  ALO x OCO  date\n2022-05-08   NaT\nName: final_lap, dtype: ...\n      5  GAS x TSU  date\n2022-05-08   -1 days +23:59:59.758000\nNam...\n      6  VET x STR  date\n2022-05-08   NaT\nName: final_lap, dtype: ...\n      7  LAT x ALB  date\n2022-05-08   NaT\nName: final_lap, dtype: ...\n      8  BOT x ZHO  date\n2022-05-08   NaT\nName: final_lap, dtype: ...\n      9  MSC x MAG  date\n2022-05-08   NaT\nName: final_lap, dtype: ...",
      "text/html": "<div>\n<style scoped>\n    .dataframe tbody tr th:only-of-type {\n        vertical-align: middle;\n    }\n\n    .dataframe tbody tr th {\n        vertical-align: top;\n    }\n\n    .dataframe thead th {\n        text-align: right;\n    }\n</style>\n<table border=\"1\" class=\"dataframe\">\n  <thead>\n    <tr style=\"text-align: right;\">\n      <th></th>\n      <th></th>\n      <th>code</th>\n      <th>diff</th>\n    </tr>\n    <tr>\n      <th>round</th>\n      <th></th>\n      <th></th>\n      <th></th>\n    </tr>\n  </thead>\n  <tbody>\n    <tr>\n      <th rowspan=\"10\" valign=\"top\">1</th>\n      <th>0</th>\n      <td>HAM x RUS</td>\n      <td>date\n2022-03-20   -1 days +23:59:59.022000\nNam...</td>\n    </tr>\n    <tr>\n      <th>1</th>\n      <td>VER x PER</td>\n      <td>date\n2022-03-20   -1 days +23:59:59.760000\nNam...</td>\n    </tr>\n    <tr>\n      <th>2</th>\n      <td>SAI x LEC</td>\n      <td>date\n2022-03-20   0 days 00:00:00.129000\nName:...</td>\n    </tr>\n    <tr>\n      <th>3</th>\n      <td>NOR x RIC</td>\n      <td>date\n2022-03-20   -1 days +23:59:59.063000\nNam...</td>\n    </tr>\n    <tr>\n      <th>4</th>\n      <td>ALO x OCO</td>\n      <td>date\n2022-03-20   0 days 00:00:00.413000\nName:...</td>\n    </tr>\n    <tr>\n      <th>5</th>\n      <td>GAS x TSU</td>\n      <td>date\n2022-03-20   -1 days +23:59:59.588000\nNam...</td>\n    </tr>\n    <tr>\n      <th>6</th>\n      <td>VET x STR</td>\n      <td>date\n2022-03-20   NaT\nName: final_lap, dtype: ...</td>\n    </tr>\n    <tr>\n      <th>7</th>\n      <td>LAT x ALB</td>\n      <td>date\n2022-03-20   0 days 00:00:00.970000\nName:...</td>\n    </tr>\n    <tr>\n      <th>8</th>\n      <td>BOT x ZHO</td>\n      <td>date\n2022-03-20   -1 days +23:59:58.017000\nNam...</td>\n    </tr>\n    <tr>\n      <th>9</th>\n      <td>MSC x MAG</td>\n      <td>date\n2022-03-20   0 days 00:00:00.190000\nName:...</td>\n    </tr>\n    <tr>\n      <th rowspan=\"10\" valign=\"top\">2</th>\n      <th>0</th>\n      <td>HAM x RUS</td>\n      <td>date\n2022-03-27   0 days 00:00:01.239000\nName:...</td>\n    </tr>\n    <tr>\n      <th>1</th>\n      <td>VER x PER</td>\n      <td>date\n2022-03-27   0 days 00:00:00.261000\nName:...</td>\n    </tr>\n    <tr>\n      <th>2</th>\n      <td>SAI x LEC</td>\n      <td>date\n2022-03-27   0 days 00:00:00.177000\nName:...</td>\n    </tr>\n    <tr>\n      <th>3</th>\n      <td>NOR x RIC</td>\n      <td>date\n2022-03-27   -1 days +23:59:59.878000\nNam...</td>\n    </tr>\n    <tr>\n      <th>4</th>\n      <td>ALO x OCO</td>\n      <td>date\n2022-03-27   0 days 00:00:00.079000\nName:...</td>\n    </tr>\n    <tr>\n      <th>5</th>\n      <td>GAS x TSU</td>\n      <td>date\n2022-03-27   NaT\nName: final_lap, dtype: ...</td>\n    </tr>\n    <tr>\n      <th>6</th>\n      <td>VET x STR</td>\n      <td>date\n2022-03-27   NaT\nName: final_lap, dtype: ...</td>\n    </tr>\n    <tr>\n      <th>7</th>\n      <td>LAT x ALB</td>\n      <td>date\n2022-03-27   0 days 00:00:01.325000\nName:...</td>\n    </tr>\n    <tr>\n      <th>8</th>\n      <td>BOT x ZHO</td>\n      <td>date\n2022-03-27   -1 days +23:59:59.364000\nNam...</td>\n    </tr>\n    <tr>\n      <th>9</th>\n      <td>MSC x MAG</td>\n      <td>date\n2022-03-27   0 days 00:00:00.332000\nName:...</td>\n    </tr>\n    <tr>\n      <th rowspan=\"10\" valign=\"top\">3</th>\n      <th>0</th>\n      <td>HAM x RUS</td>\n      <td>date\n2022-04-10   -1 days +23:59:59.892000\nNam...</td>\n    </tr>\n    <tr>\n      <th>1</th>\n      <td>VER x PER</td>\n      <td>date\n2022-04-10   -1 days +23:59:59.914000\nNam...</td>\n    </tr>\n    <tr>\n      <th>2</th>\n      <td>SAI x LEC</td>\n      <td>date\n2022-04-10   0 days 00:00:01.540000\nName:...</td>\n    </tr>\n    <tr>\n      <th>3</th>\n      <td>NOR x RIC</td>\n      <td>date\n2022-04-10   -1 days +23:59:59.671000\nNam...</td>\n    </tr>\n    <tr>\n      <th>4</th>\n      <td>ALO x OCO</td>\n      <td>date\n2022-04-10   NaT\nName: final_lap, dtype: ...</td>\n    </tr>\n    <tr>\n      <th>5</th>\n      <td>GAS x TSU</td>\n      <td>date\n2022-04-10   NaT\nName: final_lap, dtype: ...</td>\n    </tr>\n    <tr>\n      <th>6</th>\n      <td>VET x STR</td>\n      <td>date\n2022-04-10   NaT\nName: final_lap, dtype: ...</td>\n    </tr>\n    <tr>\n      <th>7</th>\n      <td>LAT x ALB</td>\n      <td>date\n2022-04-10   NaT\nName: final_lap, dtype: ...</td>\n    </tr>\n    <tr>\n      <th>8</th>\n      <td>BOT x ZHO</td>\n      <td>date\n2022-04-10   NaT\nName: final_lap, dtype: ...</td>\n    </tr>\n    <tr>\n      <th>9</th>\n      <td>MSC x MAG</td>\n      <td>date\n2022-04-10   NaT\nName: final_lap, dtype: ...</td>\n    </tr>\n    <tr>\n      <th rowspan=\"10\" valign=\"top\">4</th>\n      <th>0</th>\n      <td>HAM x RUS</td>\n      <td>date\n2022-04-24   NaT\nName: final_lap, dtype: ...</td>\n    </tr>\n    <tr>\n      <th>1</th>\n      <td>VER x PER</td>\n      <td>date\n2022-04-24   -1 days +23:59:58.191000\nNam...</td>\n    </tr>\n    <tr>\n      <th>2</th>\n      <td>SAI x LEC</td>\n      <td>date\n2022-04-24   NaT\nName: final_lap, dtype: ...</td>\n    </tr>\n    <tr>\n      <th>3</th>\n      <td>NOR x RIC</td>\n      <td>date\n2022-04-24   -1 days +23:59:59.389000\nNam...</td>\n    </tr>\n    <tr>\n      <th>4</th>\n      <td>ALO x OCO</td>\n      <td>date\n2022-04-24   NaT\nName: final_lap, dtype: ...</td>\n    </tr>\n    <tr>\n      <th>5</th>\n      <td>GAS x TSU</td>\n      <td>date\n2022-04-24   NaT\nName: final_lap, dtype: ...</td>\n    </tr>\n    <tr>\n      <th>6</th>\n      <td>VET x STR</td>\n      <td>date\n2022-04-24   NaT\nName: final_lap, dtype: ...</td>\n    </tr>\n    <tr>\n      <th>7</th>\n      <td>LAT x ALB</td>\n      <td>date\n2022-04-24   NaT\nName: final_lap, dtype: ...</td>\n    </tr>\n    <tr>\n      <th>8</th>\n      <td>BOT x ZHO</td>\n      <td>date\n2022-04-24   NaT\nName: final_lap, dtype: ...</td>\n    </tr>\n    <tr>\n      <th>9</th>\n      <td>MSC x MAG</td>\n      <td>date\n2022-04-24   NaT\nName: final_lap, dtype: ...</td>\n    </tr>\n    <tr>\n      <th rowspan=\"10\" valign=\"top\">5</th>\n      <th>0</th>\n      <td>HAM x RUS</td>\n      <td>date\n2022-05-08   NaT\nName: final_lap, dtype: ...</td>\n    </tr>\n    <tr>\n      <th>1</th>\n      <td>VER x PER</td>\n      <td>date\n2022-05-08   -1 days +23:59:59.955000\nNam...</td>\n    </tr>\n    <tr>\n      <th>2</th>\n      <td>SAI x LEC</td>\n      <td>date\n2022-05-08   0 days 00:00:00.190000\nName:...</td>\n    </tr>\n    <tr>\n      <th>3</th>\n      <td>NOR x RIC</td>\n      <td>date\n2022-05-08   NaT\nName: final_lap, dtype: ...</td>\n    </tr>\n    <tr>\n      <th>4</th>\n      <td>ALO x OCO</td>\n      <td>date\n2022-05-08   NaT\nName: final_lap, dtype: ...</td>\n    </tr>\n    <tr>\n      <th>5</th>\n      <td>GAS x TSU</td>\n      <td>date\n2022-05-08   -1 days +23:59:59.758000\nNam...</td>\n    </tr>\n    <tr>\n      <th>6</th>\n      <td>VET x STR</td>\n      <td>date\n2022-05-08   NaT\nName: final_lap, dtype: ...</td>\n    </tr>\n    <tr>\n      <th>7</th>\n      <td>LAT x ALB</td>\n      <td>date\n2022-05-08   NaT\nName: final_lap, dtype: ...</td>\n    </tr>\n    <tr>\n      <th>8</th>\n      <td>BOT x ZHO</td>\n      <td>date\n2022-05-08   NaT\nName: final_lap, dtype: ...</td>\n    </tr>\n    <tr>\n      <th>9</th>\n      <td>MSC x MAG</td>\n      <td>date\n2022-05-08   NaT\nName: final_lap, dtype: ...</td>\n    </tr>\n  </tbody>\n</table>\n</div>"
     },
     "execution_count": 88,
     "metadata": {},
     "output_type": "execute_result"
    }
   ],
   "source": [
    "def test(x):\n",
    "  comparisons = []\n",
    "  for d1, d2 in DRIVER_PAIRS.items():\n",
    "    diff = x[x[\"code\"] == d1][\"final_lap\"] - x[x[\"code\"] == d2][\"final_lap\"]\n",
    "    comparisons.append(\n",
    "      ( f\"{d1} x {d2}\", diff )\n",
    "    )\n",
    "\n",
    "  return pd.DataFrame(comparisons, columns=[\"code\", \"diff\"])\n",
    "\n",
    "df.groupby(\"round\").apply(test)"
   ],
   "metadata": {
    "collapsed": false,
    "pycharm": {
     "name": "#%%\n"
    }
   }
  }
 ],
 "metadata": {
  "kernelspec": {
   "display_name": "Python 3",
   "language": "python",
   "name": "python3"
  },
  "language_info": {
   "codemirror_mode": {
    "name": "ipython",
    "version": 2
   },
   "file_extension": ".py",
   "mimetype": "text/x-python",
   "name": "python",
   "nbconvert_exporter": "python",
   "pygments_lexer": "ipython2",
   "version": "2.7.6"
  }
 },
 "nbformat": 4,
 "nbformat_minor": 0
}
