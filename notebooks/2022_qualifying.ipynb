{
 "cells": [
  {
   "cell_type": "markdown",
   "metadata": {},
   "source": [
    "# 2022 Qualifying Stats"
   ]
  },
  {
   "cell_type": "code",
   "execution_count": 1,
   "metadata": {
    "pycharm": {
     "name": "#%%\n"
    }
   },
   "outputs": [],
   "source": [
    "import pandas as pd\n",
    "import sqlite3\n",
    "\n",
    "con = sqlite3.connect(\"../data/f1data.sqlite\")\n",
    "\n",
    "DRIVER_PAIRS = {\n",
    "  \"HAM\": \"RUS\",\n",
    "  \"VER\": \"PER\",\n",
    "  \"SAI\": \"LEC\",\n",
    "  \"NOR\": \"RIC\",\n",
    "  \"ALO\": \"OCO\",\n",
    "  \"GAS\": \"TSU\",\n",
    "  \"VET\": \"STR\",\n",
    "  \"LAT\": \"ALB\",\n",
    "  \"BOT\": \"ZHO\",\n",
    "  \"MSC\": \"MAG\",\n",
    "}\n",
    "\n",
    "# It's necessary to suffix the timestamps with `'00:0'` so they're correctly\n",
    "# parsed by `to_timedelta`.\n",
    "\n",
    "query = \"\"\"\n",
    "SELECT\n",
    "  r.date,\n",
    "  r.round,\n",
    "  r.name AS gp_name,\n",
    "  d.code,\n",
    "  d.forename || ' ' || d.surname AS name,\n",
    "  q.position,\n",
    "  '00:0' || q.q1 AS q1,\n",
    "  '00:0' || q.q2 AS q2,\n",
    "  '00:0' || q.q3 AS q3,\n",
    "  '00:0' || CASE\n",
    "    WHEN q.q3 IS NULL AND q.q2 IS NULL THEN q1\n",
    "    WHEN q.q3 IS NULL THEN q2\n",
    "    ELSE q3\n",
    "  END AS final_lap\n",
    "FROM qualifying AS q\n",
    "JOIN races r on q.raceId = r.raceId\n",
    "JOIN drivers d on q.driverId = d.driverId\n",
    "WHERE r.year = 2022\n",
    "\"\"\"\n",
    "\n",
    "quali_df = pd.read_sql(\n",
    "  query,\n",
    "  con,\n",
    "  index_col=\"date\",\n",
    "  parse_dates=\"date\"\n",
    ")\n",
    "\n",
    "\n",
    "quali_df[\"final_lap\"] = pd.to_timedelta(quali_df[\"final_lap\"], errors=\"coerce\")\n",
    "quali_df[\"q1\"] = pd.to_timedelta(quali_df[\"q1\"], errors=\"coerce\")\n",
    "quali_df[\"q2\"] = pd.to_timedelta(quali_df[\"q2\"], errors=\"coerce\")\n",
    "quali_df[\"q3\"] = pd.to_timedelta(quali_df[\"q3\"], errors=\"coerce\")"
   ]
  },
  {
   "cell_type": "markdown",
   "source": [
    "## Pole Positions"
   ],
   "metadata": {
    "collapsed": false
   }
  },
  {
   "cell_type": "code",
   "execution_count": 2,
   "outputs": [
    {
     "data": {
      "text/plain": "                        Race   ID           Driver              Pole Time\n#                                                                        \n1         Bahrain Grand Prix  LEC  Charles Leclerc 0 days 00:01:30.558000\n2   Saudi Arabian Grand Prix  PER     Sergio Pérez 0 days 00:01:28.200000\n3      Australian Grand Prix  LEC  Charles Leclerc 0 days 00:01:17.868000\n4  Emilia Romagna Grand Prix  VER   Max Verstappen 0 days 00:01:27.999000\n5           Miami Grand Prix  LEC  Charles Leclerc 0 days 00:01:28.796000\n6         Spanish Grand Prix  LEC  Charles Leclerc 0 days 00:01:18.750000\n7          Monaco Grand Prix  LEC  Charles Leclerc 0 days 00:01:11.376000\n8      Azerbaijan Grand Prix  LEC  Charles Leclerc 0 days 00:01:41.359000",
      "text/html": "<div>\n<style scoped>\n    .dataframe tbody tr th:only-of-type {\n        vertical-align: middle;\n    }\n\n    .dataframe tbody tr th {\n        vertical-align: top;\n    }\n\n    .dataframe thead th {\n        text-align: right;\n    }\n</style>\n<table border=\"1\" class=\"dataframe\">\n  <thead>\n    <tr style=\"text-align: right;\">\n      <th></th>\n      <th>Race</th>\n      <th>ID</th>\n      <th>Driver</th>\n      <th>Pole Time</th>\n    </tr>\n    <tr>\n      <th>#</th>\n      <th></th>\n      <th></th>\n      <th></th>\n      <th></th>\n    </tr>\n  </thead>\n  <tbody>\n    <tr>\n      <th>1</th>\n      <td>Bahrain Grand Prix</td>\n      <td>LEC</td>\n      <td>Charles Leclerc</td>\n      <td>0 days 00:01:30.558000</td>\n    </tr>\n    <tr>\n      <th>2</th>\n      <td>Saudi Arabian Grand Prix</td>\n      <td>PER</td>\n      <td>Sergio Pérez</td>\n      <td>0 days 00:01:28.200000</td>\n    </tr>\n    <tr>\n      <th>3</th>\n      <td>Australian Grand Prix</td>\n      <td>LEC</td>\n      <td>Charles Leclerc</td>\n      <td>0 days 00:01:17.868000</td>\n    </tr>\n    <tr>\n      <th>4</th>\n      <td>Emilia Romagna Grand Prix</td>\n      <td>VER</td>\n      <td>Max Verstappen</td>\n      <td>0 days 00:01:27.999000</td>\n    </tr>\n    <tr>\n      <th>5</th>\n      <td>Miami Grand Prix</td>\n      <td>LEC</td>\n      <td>Charles Leclerc</td>\n      <td>0 days 00:01:28.796000</td>\n    </tr>\n    <tr>\n      <th>6</th>\n      <td>Spanish Grand Prix</td>\n      <td>LEC</td>\n      <td>Charles Leclerc</td>\n      <td>0 days 00:01:18.750000</td>\n    </tr>\n    <tr>\n      <th>7</th>\n      <td>Monaco Grand Prix</td>\n      <td>LEC</td>\n      <td>Charles Leclerc</td>\n      <td>0 days 00:01:11.376000</td>\n    </tr>\n    <tr>\n      <th>8</th>\n      <td>Azerbaijan Grand Prix</td>\n      <td>LEC</td>\n      <td>Charles Leclerc</td>\n      <td>0 days 00:01:41.359000</td>\n    </tr>\n  </tbody>\n</table>\n</div>"
     },
     "execution_count": 2,
     "metadata": {},
     "output_type": "execute_result"
    }
   ],
   "source": [
    "poles = quali_df[quali_df[\"position\"] == 1]\n",
    "poles.set_index(\"round\", inplace=True)\n",
    "poles.index.rename(\"#\", inplace=True)\n",
    "poles[[\"gp_name\", \"code\", \"name\", \"q3\"]].rename(columns={\n",
    "  \"gp_name\": \"Race\",\n",
    "  \"code\": \"ID\",\n",
    "  \"name\": \"Driver\",\n",
    "  \"q3\": \"Pole Time\",\n",
    "})\n"
   ],
   "metadata": {
    "collapsed": false,
    "pycharm": {
     "name": "#%%\n"
    }
   }
  },
  {
   "cell_type": "markdown",
   "source": [
    "### Ranking"
   ],
   "metadata": {
    "collapsed": false
   }
  },
  {
   "cell_type": "code",
   "execution_count": 24,
   "outputs": [
    {
     "data": {
      "text/plain": "                 Poles\nDriver                \nCharles Leclerc      6\nMax Verstappen       1\nSergio Pérez         1",
      "text/html": "<div>\n<style scoped>\n    .dataframe tbody tr th:only-of-type {\n        vertical-align: middle;\n    }\n\n    .dataframe tbody tr th {\n        vertical-align: top;\n    }\n\n    .dataframe thead th {\n        text-align: right;\n    }\n</style>\n<table border=\"1\" class=\"dataframe\">\n  <thead>\n    <tr style=\"text-align: right;\">\n      <th></th>\n      <th>Poles</th>\n    </tr>\n    <tr>\n      <th>Driver</th>\n      <th></th>\n    </tr>\n  </thead>\n  <tbody>\n    <tr>\n      <th>Charles Leclerc</th>\n      <td>6</td>\n    </tr>\n    <tr>\n      <th>Max Verstappen</th>\n      <td>1</td>\n    </tr>\n    <tr>\n      <th>Sergio Pérez</th>\n      <td>1</td>\n    </tr>\n  </tbody>\n</table>\n</div>"
     },
     "execution_count": 24,
     "metadata": {},
     "output_type": "execute_result"
    }
   ],
   "source": [
    "ranking = poles.groupby(\"name\").count()[\"q3\"]\n",
    "ranking_df = pd.DataFrame(ranking).rename(columns={\"q3\": \"Poles\"})\n",
    "ranking_df.index.rename(\"Driver\", inplace=True)\n",
    "ranking_df.sort_values([\"Poles\", \"Driver\"], ascending=[False, True])"
   ],
   "metadata": {
    "collapsed": false,
    "pycharm": {
     "name": "#%%\n"
    }
   }
  },
  {
   "cell_type": "markdown",
   "metadata": {
    "pycharm": {
     "name": "#%% md\n"
    }
   },
   "source": [
    "## Average Qualifying Time in Sessions\n",
    "\n",
    "This approach simply takes the average of the available qualifying times in\n",
    "each session.\n",
    "\n",
    "It's basically useless, since `NaT`s in the data tend to lower the average and\n",
    "heavily distort the results. I believe this is mostly due to having different\n",
    "circuits."
   ]
  },
  {
   "cell_type": "code",
   "execution_count": 3,
   "outputs": [
    {
     "data": {
      "text/plain": "                              Q1                        Q2  \\\nDriver                                                       \nOCO    0 days 00:01:25.958285714 0 days 00:01:26.208833333   \nMSC       0 days 00:01:26.705625 0 days 00:01:23.891285714   \nNOR       0 days 00:01:26.300875    0 days 00:01:25.723500   \nRIC       0 days 00:01:26.438250 0 days 00:01:25.152714285   \nLEC       0 days 00:01:25.369500    0 days 00:01:25.113875   \nSAI       0 days 00:01:25.531750    0 days 00:01:25.034500   \nRUS       0 days 00:01:26.123250    0 days 00:01:25.780500   \nHAM       0 days 00:01:26.315250 0 days 00:01:25.237142857   \nVER       0 days 00:01:25.528750    0 days 00:01:24.983875   \nPER       0 days 00:01:25.857750    0 days 00:01:25.122500   \nMAG       0 days 00:01:26.387625    0 days 00:01:22.728000   \nBOT       0 days 00:01:26.311375    0 days 00:01:25.985000   \nVET       0 days 00:01:24.956000    0 days 00:01:26.513000   \nALO       0 days 00:01:26.330125 0 days 00:01:26.504857142   \nSTR    0 days 00:01:27.791142857    0 days 00:01:29.708000   \nGAS       0 days 00:01:26.340625 0 days 00:01:29.066166666   \nTSU    0 days 00:01:25.837571428    0 days 00:01:25.253400   \nZHO       0 days 00:01:26.623750 0 days 00:01:28.305833333   \nALB    0 days 00:01:27.799142857    0 days 00:01:32.664000   \nLAT       0 days 00:01:27.725500                       NaT   \nHUL       0 days 00:01:31.660000                       NaT   \n\n                              Q3  \nDriver                            \nOCO       0 days 00:01:20.392000  \nMSC       0 days 00:01:20.638000  \nNOR       0 days 00:01:22.358250  \nRIC    0 days 00:01:23.023666666  \nLEC       0 days 00:01:25.713750  \nSAI    0 days 00:01:25.723428571  \nRUS       0 days 00:01:25.745000  \nHAM    0 days 00:01:25.780666666  \nVER       0 days 00:01:25.841375  \nPER       0 days 00:01:26.111875  \nMAG       0 days 00:01:27.560500  \nBOT       0 days 00:01:28.053000  \nVET    0 days 00:01:28.961666666  \nALO       0 days 00:01:29.192800  \nSTR       0 days 00:01:30.676000  \nGAS       0 days 00:01:33.531750  \nTSU       0 days 00:01:36.494000  \nZHO                          NaT  \nALB                          NaT  \nLAT                          NaT  \nHUL                          NaT  ",
      "text/html": "<div>\n<style scoped>\n    .dataframe tbody tr th:only-of-type {\n        vertical-align: middle;\n    }\n\n    .dataframe tbody tr th {\n        vertical-align: top;\n    }\n\n    .dataframe thead th {\n        text-align: right;\n    }\n</style>\n<table border=\"1\" class=\"dataframe\">\n  <thead>\n    <tr style=\"text-align: right;\">\n      <th></th>\n      <th>Q1</th>\n      <th>Q2</th>\n      <th>Q3</th>\n    </tr>\n    <tr>\n      <th>Driver</th>\n      <th></th>\n      <th></th>\n      <th></th>\n    </tr>\n  </thead>\n  <tbody>\n    <tr>\n      <th>OCO</th>\n      <td>0 days 00:01:25.958285714</td>\n      <td>0 days 00:01:26.208833333</td>\n      <td>0 days 00:01:20.392000</td>\n    </tr>\n    <tr>\n      <th>MSC</th>\n      <td>0 days 00:01:26.705625</td>\n      <td>0 days 00:01:23.891285714</td>\n      <td>0 days 00:01:20.638000</td>\n    </tr>\n    <tr>\n      <th>NOR</th>\n      <td>0 days 00:01:26.300875</td>\n      <td>0 days 00:01:25.723500</td>\n      <td>0 days 00:01:22.358250</td>\n    </tr>\n    <tr>\n      <th>RIC</th>\n      <td>0 days 00:01:26.438250</td>\n      <td>0 days 00:01:25.152714285</td>\n      <td>0 days 00:01:23.023666666</td>\n    </tr>\n    <tr>\n      <th>LEC</th>\n      <td>0 days 00:01:25.369500</td>\n      <td>0 days 00:01:25.113875</td>\n      <td>0 days 00:01:25.713750</td>\n    </tr>\n    <tr>\n      <th>SAI</th>\n      <td>0 days 00:01:25.531750</td>\n      <td>0 days 00:01:25.034500</td>\n      <td>0 days 00:01:25.723428571</td>\n    </tr>\n    <tr>\n      <th>RUS</th>\n      <td>0 days 00:01:26.123250</td>\n      <td>0 days 00:01:25.780500</td>\n      <td>0 days 00:01:25.745000</td>\n    </tr>\n    <tr>\n      <th>HAM</th>\n      <td>0 days 00:01:26.315250</td>\n      <td>0 days 00:01:25.237142857</td>\n      <td>0 days 00:01:25.780666666</td>\n    </tr>\n    <tr>\n      <th>VER</th>\n      <td>0 days 00:01:25.528750</td>\n      <td>0 days 00:01:24.983875</td>\n      <td>0 days 00:01:25.841375</td>\n    </tr>\n    <tr>\n      <th>PER</th>\n      <td>0 days 00:01:25.857750</td>\n      <td>0 days 00:01:25.122500</td>\n      <td>0 days 00:01:26.111875</td>\n    </tr>\n    <tr>\n      <th>MAG</th>\n      <td>0 days 00:01:26.387625</td>\n      <td>0 days 00:01:22.728000</td>\n      <td>0 days 00:01:27.560500</td>\n    </tr>\n    <tr>\n      <th>BOT</th>\n      <td>0 days 00:01:26.311375</td>\n      <td>0 days 00:01:25.985000</td>\n      <td>0 days 00:01:28.053000</td>\n    </tr>\n    <tr>\n      <th>VET</th>\n      <td>0 days 00:01:24.956000</td>\n      <td>0 days 00:01:26.513000</td>\n      <td>0 days 00:01:28.961666666</td>\n    </tr>\n    <tr>\n      <th>ALO</th>\n      <td>0 days 00:01:26.330125</td>\n      <td>0 days 00:01:26.504857142</td>\n      <td>0 days 00:01:29.192800</td>\n    </tr>\n    <tr>\n      <th>STR</th>\n      <td>0 days 00:01:27.791142857</td>\n      <td>0 days 00:01:29.708000</td>\n      <td>0 days 00:01:30.676000</td>\n    </tr>\n    <tr>\n      <th>GAS</th>\n      <td>0 days 00:01:26.340625</td>\n      <td>0 days 00:01:29.066166666</td>\n      <td>0 days 00:01:33.531750</td>\n    </tr>\n    <tr>\n      <th>TSU</th>\n      <td>0 days 00:01:25.837571428</td>\n      <td>0 days 00:01:25.253400</td>\n      <td>0 days 00:01:36.494000</td>\n    </tr>\n    <tr>\n      <th>ZHO</th>\n      <td>0 days 00:01:26.623750</td>\n      <td>0 days 00:01:28.305833333</td>\n      <td>NaT</td>\n    </tr>\n    <tr>\n      <th>ALB</th>\n      <td>0 days 00:01:27.799142857</td>\n      <td>0 days 00:01:32.664000</td>\n      <td>NaT</td>\n    </tr>\n    <tr>\n      <th>LAT</th>\n      <td>0 days 00:01:27.725500</td>\n      <td>NaT</td>\n      <td>NaT</td>\n    </tr>\n    <tr>\n      <th>HUL</th>\n      <td>0 days 00:01:31.660000</td>\n      <td>NaT</td>\n      <td>NaT</td>\n    </tr>\n  </tbody>\n</table>\n</div>"
     },
     "execution_count": 3,
     "metadata": {},
     "output_type": "execute_result"
    }
   ],
   "source": [
    "avg_quali_df = quali_df[[\"code\", \"q1\", \"q2\", \"q3\"]].groupby(\"code\").mean()\n",
    "avg_quali_df.sort_values(by=[\"q3\", \"q2\", \"q1\"], inplace=True)\n",
    "avg_quali_df.index.rename(\"Driver\", inplace=True)\n",
    "avg_quali_df.rename(columns={\"q1\": \"Q1\", \"q2\": \"Q2\", \"q3\": \"Q3\"})"
   ],
   "metadata": {
    "collapsed": false,
    "pycharm": {
     "name": "#%%\n"
    }
   }
  },
  {
   "cell_type": "markdown",
   "source": [
    "The only exception is that it makes it clear that some pilots didn't reach Q3\n",
    "or Q2:"
   ],
   "metadata": {
    "collapsed": false,
    "pycharm": {
     "name": "#%% md\n"
    }
   }
  },
  {
   "cell_type": "code",
   "execution_count": 4,
   "outputs": [
    {
     "data": {
      "text/plain": "                              Q1                        Q2  Q3\nDriver                                                        \nZHO       0 days 00:01:26.623750 0 days 00:01:28.305833333 NaT\nALB    0 days 00:01:27.799142857    0 days 00:01:32.664000 NaT\nLAT       0 days 00:01:27.725500                       NaT NaT\nHUL       0 days 00:01:31.660000                       NaT NaT",
      "text/html": "<div>\n<style scoped>\n    .dataframe tbody tr th:only-of-type {\n        vertical-align: middle;\n    }\n\n    .dataframe tbody tr th {\n        vertical-align: top;\n    }\n\n    .dataframe thead th {\n        text-align: right;\n    }\n</style>\n<table border=\"1\" class=\"dataframe\">\n  <thead>\n    <tr style=\"text-align: right;\">\n      <th></th>\n      <th>Q1</th>\n      <th>Q2</th>\n      <th>Q3</th>\n    </tr>\n    <tr>\n      <th>Driver</th>\n      <th></th>\n      <th></th>\n      <th></th>\n    </tr>\n  </thead>\n  <tbody>\n    <tr>\n      <th>ZHO</th>\n      <td>0 days 00:01:26.623750</td>\n      <td>0 days 00:01:28.305833333</td>\n      <td>NaT</td>\n    </tr>\n    <tr>\n      <th>ALB</th>\n      <td>0 days 00:01:27.799142857</td>\n      <td>0 days 00:01:32.664000</td>\n      <td>NaT</td>\n    </tr>\n    <tr>\n      <th>LAT</th>\n      <td>0 days 00:01:27.725500</td>\n      <td>NaT</td>\n      <td>NaT</td>\n    </tr>\n    <tr>\n      <th>HUL</th>\n      <td>0 days 00:01:31.660000</td>\n      <td>NaT</td>\n      <td>NaT</td>\n    </tr>\n  </tbody>\n</table>\n</div>"
     },
     "execution_count": 4,
     "metadata": {},
     "output_type": "execute_result"
    }
   ],
   "source": [
    "criteria = avg_quali_df[\"q3\"].isna() | avg_quali_df[\"q2\"].isna()\n",
    "sorted = avg_quali_df[criteria].sort_values(by=\"q2\")\n",
    "sorted.index.rename(\"Driver\", inplace=True)\n",
    "sorted.rename(columns={\"q1\": \"Q1\", \"q2\": \"Q2\", \"q3\": \"Q3\"})"
   ],
   "metadata": {
    "collapsed": false,
    "pycharm": {
     "name": "#%%\n"
    }
   }
  },
  {
   "cell_type": "markdown",
   "source": [],
   "metadata": {
    "collapsed": false,
    "pycharm": {
     "name": "#%% md"
    }
   }
  }
 ],
 "metadata": {
  "kernelspec": {
   "display_name": "Python 3 (ipykernel)",
   "language": "python",
   "name": "python3"
  },
  "language_info": {
   "codemirror_mode": {
    "name": "ipython",
    "version": 3
   },
   "file_extension": ".py",
   "mimetype": "text/x-python",
   "name": "python",
   "nbconvert_exporter": "python",
   "pygments_lexer": "ipython3",
   "version": "3.8.13"
  }
 },
 "nbformat": 4,
 "nbformat_minor": 1
}
